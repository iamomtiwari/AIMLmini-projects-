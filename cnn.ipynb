{
  "nbformat": 4,
  "nbformat_minor": 0,
  "metadata": {
    "colab": {
      "provenance": [],
      "authorship_tag": "ABX9TyNTVyKcpfh+y8RT3mJHd2CW",
      "include_colab_link": true
    },
    "kernelspec": {
      "name": "python3",
      "display_name": "Python 3"
    },
    "language_info": {
      "name": "python"
    }
  },
  "cells": [
    {
      "cell_type": "markdown",
      "metadata": {
        "id": "view-in-github",
        "colab_type": "text"
      },
      "source": [
        "<a href=\"https://colab.research.google.com/github/iamomtiwari/AIMLmini-projects-/blob/main/cnn.ipynb\" target=\"_parent\"><img src=\"https://colab.research.google.com/assets/colab-badge.svg\" alt=\"Open In Colab\"/></a>"
      ]
    },
    {
      "cell_type": "code",
      "execution_count": null,
      "metadata": {
        "id": "1QwYEoYR2Gss"
      },
      "outputs": [],
      "source": [
        "import numpy as np\n",
        "import matplotlib.pyplot as plt\n",
        "import pandas as pd\n",
        "import seaborn as sns"
      ]
    },
    {
      "cell_type": "code",
      "source": [
        "#/content/train.csv\n",
        "path = \"/content/train.csv\"\n",
        "mnist = pd.read_csv(path)"
      ],
      "metadata": {
        "id": "1DNIcbe_2XKF"
      },
      "execution_count": null,
      "outputs": []
    },
    {
      "cell_type": "code",
      "source": [
        "X, y = mnist.drop([\"label\"], axis = 1), mnist[\"label\"]"
      ],
      "metadata": {
        "id": "Qpq5Abc3204l"
      },
      "execution_count": null,
      "outputs": []
    },
    {
      "cell_type": "code",
      "source": [
        "y.unique()"
      ],
      "metadata": {
        "colab": {
          "base_uri": "https://localhost:8080/"
        },
        "id": "v9hIBVA822fr",
        "outputId": "6e32e082-a2f3-4923-eb1d-426b97a92c32"
      },
      "execution_count": null,
      "outputs": [
        {
          "output_type": "execute_result",
          "data": {
            "text/plain": [
              "array([1, 0, 4, 7, 3, 5, 8, 9, 2, 6])"
            ]
          },
          "metadata": {},
          "execution_count": 4
        }
      ]
    },
    {
      "cell_type": "code",
      "source": [
        "first_image = X.iloc[0]"
      ],
      "metadata": {
        "id": "m9MlxaKT238X"
      },
      "execution_count": null,
      "outputs": []
    },
    {
      "cell_type": "code",
      "source": [
        "plt.imshow(first_image.to_numpy().reshape(28,28), cmap='binary')\n",
        "plt.axis(\"off\")\n",
        "plt.show"
      ],
      "metadata": {
        "colab": {
          "base_uri": "https://localhost:8080/",
          "height": 424
        },
        "id": "bViSrmhs267v",
        "outputId": "53665280-0a1f-4487-fcf8-76d31a25808f"
      },
      "execution_count": null,
      "outputs": [
        {
          "output_type": "execute_result",
          "data": {
            "text/plain": [
              "<function matplotlib.pyplot.show(close=None, block=None)>"
            ]
          },
          "metadata": {},
          "execution_count": 6
        },
        {
          "output_type": "display_data",
          "data": {
            "text/plain": [
              "<Figure size 640x480 with 1 Axes>"
            ],
            "image/png": "[encoded data removed]"
          },
          "metadata": {}
        }
      ]
    },
    {
      "cell_type": "code",
      "source": [
        "X = X / 255"
      ],
      "metadata": {
        "id": "dxROf3He271t"
      },
      "execution_count": null,
      "outputs": []
    },
    {
      "cell_type": "code",
      "source": [
        "from sklearn.model_selection import train_test_split\n",
        "\n",
        "X_train,X_test,y_train,y_test = train_test_split(X,y,test_size = 0.2, random_state = 42)"
      ],
      "metadata": {
        "id": "bWRis-3T274i"
      },
      "execution_count": null,
      "outputs": []
    },
    {
      "cell_type": "code",
      "source": [
        "from keras.utils import np_utils"
      ],
      "metadata": {
        "id": "TeIXcMW-277I"
      },
      "execution_count": null,
      "outputs": []
    },
    {
      "cell_type": "code",
      "source": [
        "y_train = np_utils.to_categorical(y_train, 10)\n",
        "y_test = np_utils.to_categorical(y_test, 10)"
      ],
      "metadata": {
        "id": "BXRbg1QQ3BOj"
      },
      "execution_count": null,
      "outputs": []
    },
    {
      "cell_type": "code",
      "source": [
        "from tensorflow.keras.layers import Dense\n",
        "from tensorflow.keras.models import Sequential"
      ],
      "metadata": {
        "id": "muEgZgDE3DAU"
      },
      "execution_count": null,
      "outputs": []
    },
    {
      "cell_type": "code",
      "source": [
        "model = Sequential()\n",
        "model.add(Dense(128, activation = \"relu\", input_shape =(784,)))\n",
        "model.add(Dense(64, activation = \"relu\"))\n",
        "model.add(Dense(10, activation =\"softmax\"))"
      ],
      "metadata": {
        "id": "lf-Q5y4K3LjK"
      },
      "execution_count": null,
      "outputs": []
    },
    {
      "cell_type": "code",
      "source": [
        "model.summary()"
      ],
      "metadata": {
        "colab": {
          "base_uri": "https://localhost:8080/"
        },
        "id": "s_418Cw43Eof",
        "outputId": "d3f48f27-4f5c-4c28-b6ff-e66379e69a50"
      },
      "execution_count": null,
      "outputs": [
        {
          "output_type": "stream",
          "name": "stdout",
          "text": [
            "Model: \"sequential_1\"\n",
            "_________________________________________________________________\n",
            " Layer (type)                Output Shape              Param #   \n",
            "=================================================================\n",
            " dense_3 (Dense)             (None, 128)               100480    \n",
            "                                                                 \n",
            " dense_4 (Dense)             (None, 64)                8256      \n",
            "                                                                 \n",
            " dense_5 (Dense)             (None, 10)                650       \n",
            "                                                                 \n",
            "=================================================================\n",
            "Total params: 109,386\n",
            "Trainable params: 109,386\n",
            "Non-trainable params: 0\n",
            "_________________________________________________________________\n"
          ]
        }
      ]
    },
    {
      "cell_type": "code",
      "source": [
        "model.compile(loss=\"categorical_crossentropy\",\n",
        "              optimizer=\"Adam\",\n",
        "              metrics = ['accuracy'])"
      ],
      "metadata": {
        "id": "uQF9Q-v43M0Y"
      },
      "execution_count": null,
      "outputs": []
    },
    {
      "cell_type": "code",
      "source": [
        "import tensorflow as tf\n",
        "tf.config.run_functions_eagerly(True)\n",
        "import warnings\n",
        "warnings.filterwarnings(\"ignore\") #this is to ignore warnings generated by code"
      ],
      "metadata": {
        "id": "lt_9ZAaN3PBE"
      },
      "execution_count": null,
      "outputs": []
    },
    {
      "cell_type": "code",
      "source": [
        "model.fit(X_train, y_train, batch_size = 100, epochs = 10, validation_data = (X_test, y_test))"
      ],
      "metadata": {
        "colab": {
          "base_uri": "https://localhost:8080/"
        },
        "id": "iWvlUUkE3QwN",
        "outputId": "aa708216-5df6-4afa-f85b-729dc079f76e"
      },
      "execution_count": null,
      "outputs": [
        {
          "output_type": "stream",
          "name": "stdout",
          "text": [
            "Epoch 1/10\n",
            "5/5 [==============================] - 0s 89ms/step - loss: nan - accuracy: 0.1077 - val_loss: nan - val_accuracy: 0.1053\n",
            "Epoch 2/10\n",
            "5/5 [==============================] - 0s 74ms/step - loss: nan - accuracy: 0.1121 - val_loss: nan - val_accuracy: 0.1053\n",
            "Epoch 3/10\n",
            "5/5 [==============================] - 0s 72ms/step - loss: nan - accuracy: 0.1121 - val_loss: nan - val_accuracy: 0.1053\n",
            "Epoch 4/10\n",
            "5/5 [==============================] - 0s 78ms/step - loss: nan - accuracy: 0.1121 - val_loss: nan - val_accuracy: 0.1053\n",
            "Epoch 5/10\n",
            "5/5 [==============================] - 0s 77ms/step - loss: nan - accuracy: 0.1121 - val_loss: nan - val_accuracy: 0.1053\n",
            "Epoch 6/10\n",
            "5/5 [==============================] - 0s 78ms/step - loss: nan - accuracy: 0.1121 - val_loss: nan - val_accuracy: 0.1053\n",
            "Epoch 7/10\n",
            "5/5 [==============================] - 0s 90ms/step - loss: nan - accuracy: 0.1121 - val_loss: nan - val_accuracy: 0.1053\n",
            "Epoch 8/10\n",
            "5/5 [==============================] - 0s 77ms/step - loss: nan - accuracy: 0.1121 - val_loss: nan - val_accuracy: 0.1053\n",
            "Epoch 9/10\n",
            "5/5 [==============================] - 0s 63ms/step - loss: nan - accuracy: 0.1121 - val_loss: nan - val_accuracy: 0.1053\n",
            "Epoch 10/10\n",
            "5/5 [==============================] - 0s 55ms/step - loss: nan - accuracy: 0.1121 - val_loss: nan - val_accuracy: 0.1053\n"
          ]
        },
        {
          "output_type": "execute_result",
          "data": {
            "text/plain": [
              "<keras.callbacks.History at 0x7f6347e663a0>"
            ]
          },
          "metadata": {},
          "execution_count": 35
        }
      ]
    },
    {
      "cell_type": "code",
      "source": [
        "test_loss, test_acc = model.evaluate(X_test, y_test)"
      ],
      "metadata": {
        "colab": {
          "base_uri": "https://localhost:8080/"
        },
        "id": "ymdi2vet3SQ8",
        "outputId": "e01f317a-289b-453e-80aa-260ec4318aed"
      },
      "execution_count": null,
      "outputs": [
        {
          "output_type": "stream",
          "name": "stdout",
          "text": [
            "4/4 [==============================] - 0s 15ms/step - loss: nan - accuracy: 0.1053\n"
          ]
        }
      ]
    },
    {
      "cell_type": "code",
      "source": [
        "print(test_acc)"
      ],
      "metadata": {
        "colab": {
          "base_uri": "https://localhost:8080/"
        },
        "id": "FDwps0qG3U-W",
        "outputId": "bb35a9b5-4b78-4dcc-e67d-0554902c4f0d"
      },
      "execution_count": null,
      "outputs": [
        {
          "output_type": "stream",
          "name": "stdout",
          "text": [
            "0.10526315867900848\n"
          ]
        }
      ]
    },
    {
      "cell_type": "code",
      "source": [
        "y_pred = model.predict(X_test)\n",
        "\n",
        "y_pred_classes = np.argmax(y_pred, axis = 1)"
      ],
      "metadata": {
        "colab": {
          "base_uri": "https://localhost:8080/"
        },
        "id": "m5KtiQB03Wpw",
        "outputId": "edaf1480-8f88-404a-9897-c1f57e4bf104"
      },
      "execution_count": null,
      "outputs": [
        {
          "output_type": "stream",
          "name": "stdout",
          "text": [
            "4/4 [==============================] - 0s 9ms/step\n"
          ]
        }
      ]
    },
    {
      "cell_type": "code",
      "source": [
        "print(np.round(y_pred[0]))"
      ],
      "metadata": {
        "colab": {
          "base_uri": "https://localhost:8080/"
        },
        "id": "p354yI1C3YHF",
        "outputId": "773f00f8-a498-4bde-bb90-c5d46b333cbe"
      },
      "execution_count": null,
      "outputs": [
        {
          "output_type": "stream",
          "name": "stdout",
          "text": [
            "[nan nan nan nan nan nan nan nan nan nan]\n"
          ]
        }
      ]
    },
    {
      "cell_type": "code",
      "source": [
        "y_true = np.argmax(y_test, axis = 1)"
      ],
      "metadata": {
        "id": "We7IdSFe3a8a"
      },
      "execution_count": null,
      "outputs": []
    },
    {
      "cell_type": "code",
      "source": [
        "from sklearn.metrics import confusion_matrix\n",
        "confusion = confusion_matrix(y_true, y_pred_classes)\n",
        "sns.heatmap(confusion, annot=True, fmt='d')\n",
        "plt.xlabel('Predicted')\n",
        "plt.ylabel('True')\n",
        "plt.show()"
      ],
      "metadata": {
        "colab": {
          "base_uri": "https://localhost:8080/",
          "height": 455
        },
        "id": "jf7RxkfS3b9b",
        "outputId": "1a401070-a9f5-47ea-bf4f-9f9d2a393810"
      },
      "execution_count": null,
      "outputs": [
        {
          "output_type": "display_data",
          "data": {
            "text/plain": [
              "<Figure size 640x480 with 2 Axes>"
            ],
            "image/png": "[encoded data removed]"
          },
          "metadata": {}
        }
      ]
    },
    {
      "cell_type": "code",
      "source": [
        "from sklearn.metrics import classification_report\n",
        "\n",
        "print(classification_report(y_true, y_pred_classes))"
      ],
      "metadata": {
        "colab": {
          "base_uri": "https://localhost:8080/"
        },
        "id": "x0pmlDP03eln",
        "outputId": "d5239dcf-90d6-457f-924d-7df22ec2bc32"
      },
      "execution_count": null,
      "outputs": [
        {
          "output_type": "stream",
          "name": "stdout",
          "text": [
            "              precision    recall  f1-score   support\n",
            "\n",
            "           0       0.11      1.00      0.19        12\n",
            "           1       0.00      0.00      0.00        16\n",
            "           2       0.00      0.00      0.00        12\n",
            "           3       0.00      0.00      0.00        11\n",
            "           4       0.00      0.00      0.00        15\n",
            "           5       0.00      0.00      0.00         8\n",
            "           6       0.00      0.00      0.00         7\n",
            "           7       0.00      0.00      0.00         9\n",
            "           8       0.00      0.00      0.00        11\n",
            "           9       0.00      0.00      0.00        13\n",
            "\n",
            "    accuracy                           0.11       114\n",
            "   macro avg       0.01      0.10      0.02       114\n",
            "weighted avg       0.01      0.11      0.02       114\n",
            "\n"
          ]
        }
      ]
    }
  ]
}